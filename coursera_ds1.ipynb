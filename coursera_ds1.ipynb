{
  "nbformat": 4,
  "nbformat_minor": 0,
  "metadata": {
    "colab": {
      "provenance": []
    },
    "kernelspec": {
      "name": "python3",
      "display_name": "Python 3"
    },
    "language_info": {
      "name": "python"
    }
  },
  "cells": [
    {
      "cell_type": "markdown",
      "source": [
        "# **Tools for Data Science Course Peer Graded Assessment**"
      ],
      "metadata": {
        "id": "PNFNrfuv2_Tc"
      }
    },
    {
      "cell_type": "markdown",
      "source": [
        "##Introduction\n",
        "The corresponding notebook for the simple tasks given in the Peer Graded Assessment section of the Tools for Data Science course on coursera. My name is Pratyush Mishra, and I am a student studying in the National Institute of Technology, Kurukshetra. My aim is to become a prominent researcher in the realm of data science, specifically NLP (Natural Language Processing)\n",
        "\n",
        "It flows through a presentation of various data science languages and tools, through the detailed and informative markdown sections, as well as the demonstration of some basic aarithmetic using python coding in the code sections."
      ],
      "metadata": {
        "id": "-fYaGLqF8RLm"
      }
    },
    {
      "cell_type": "markdown",
      "source": [
        "##Major Data Science Languages\n",
        "\n",
        "\n",
        "---\n",
        "\n",
        "\n",
        "**1. Python**\n",
        "\n",
        "Python is a general-purpose programming language that is widely used in data science due to its readability, extensive libraries, and large community. Its syntax is known for being clear and concise, making it a good choice for beginners. Python has a rich ecosystem of data science libraries, including NumPy for numerical computing, Pandas for data manipulation and analysis, Matplotlib and Seaborn for data visualization, and Scikit-learn for machine learning.\n",
        "\n",
        "**2. R**\n",
        "\n",
        "R is a programming language specifically designed for statistical computing and graphics. It is popular in academia and research due to its powerful statistical capabilities and extensive packages for data analysis, visualization, and machine learning. R offers a strong focus on data visualization, with libraries like ggplot2 that produce high-quality and customizable plots.\n",
        "\n",
        "**3. SQL**\n",
        "\n",
        "SQL (Structured Query Language) is a domain-specific language used for interacting with relational databases. It is an essential tool for data scientists as it allows them to extract, clean, and manipulate data stored in databases.  SQL is a critical skill for data scientists because most organizations store their data in relational databases.\n",
        "\n"
      ],
      "metadata": {
        "id": "B2rSud7l2_M7"
      }
    },
    {
      "cell_type": "markdown",
      "source": [
        "##Major Data Science Libraries\n",
        "\n",
        "\n",
        "---\n",
        "\n",
        "\n",
        "**1. Numerical Computing and Data Structures:**\n",
        "###\n",
        "* **NumPy:** The foundation for numerical computing in Python. NumPy provides efficient multidimensional arrays and linear algebra operations.\n",
        "* **SciPy:** Builds on NumPy, offering advanced algorithms for optimization, integration, statistics, and more.\n",
        "* **R in general:** R natively supports powerful numerical data structures and functions for statistical computing.\n",
        "\n",
        "###**2. Data Manipulation and Analysis:**\n",
        "\n",
        "* **Pandas:** The go-to library for data analysis in Python. Pandas offers powerful data structures (Series and DataFrames) for efficiently working with tabular data.\n",
        "* **dplyr:** A popular package in R for data manipulation, providing a concise and verb-based syntax for data wrangling tasks.\n",
        "\n",
        "###**3. Data Visualization:**\n",
        "\n",
        "* **Matplotlib:** The fundamental library for creating static visualizations in Python, offering a wide range of plot types and customization options.\n",
        "* **Seaborn:** Built on top of Matplotlib, Seaborn provides high-level functions for creating statistical graphics with a focus on aesthetics and clarity.\n",
        "* **ggplot2:** A dominant package for data visualization in R, known for its grammar-of-graphics approach that facilitates creating clear and informative plots.\n",
        "\n",
        "###**4. Machine Learning:**\n",
        "\n",
        "* **Scikit-learn:** A comprehensive library for various machine learning algorithms, offering implementations for regression, classification, clustering, and more.\n",
        "* **TensorFlow:** A popular framework for deep learning, allowing for building and training complex neural networks.\n",
        "* **PyTorch:** Another leading deep learning framework, known for its flexibility and ease of use.\n",
        "* **caret:** A user-friendly package in R that simplifies the process of training and evaluating machine learning models.\n",
        "\n",
        "###**5. Data Acquisition and Cleaning:**\n",
        "\n",
        "* **BeautifulSoup (Python):** A library for parsing HTML and XML data, often used for web scraping.\n",
        "* **Scrapy (Python):** A powerful framework for building large-scale web crawlers to extract data from websites.\n"
      ],
      "metadata": {
        "id": "Z9pKcjO44Ty8"
      }
    },
    {
      "cell_type": "markdown",
      "source": [
        "## Data Science Tools Table\n",
        "\n",
        "\n",
        "---\n",
        "\n",
        "\n",
        "| Category | Tool | Description |\n",
        "|---|---|---|\n",
        "| Numerical Computing & Data Structures | NumPy | Efficient multidimensional arrays and linear algebra |\n",
        "|  | SciPy | Advanced algorithms for optimization, integration, statistics (built on NumPy) |\n",
        "|  | R | Powerful numerical data structures and functions |\n",
        "| Data Manipulation & Analysis | Pandas | Powerful data structures (Series, DataFrames) for working with tabular data |\n",
        "|  | dplyr | Concise, verb-based syntax for data wrangling tasks |\n",
        "| Data Visualization | Matplotlib | Wide range of plot types and customization options |\n",
        "|  | Seaborn | High-level functions for statistical graphics with a focus on aesthetics (built on Matplotlib) |\n",
        "|  | ggplot2 | Grammar-of-graphics approach for creating clear and informative plots |\n",
        "| Machine Learning | Scikit-learn | Various machine learning algorithms (regression, classification, clustering) |\n",
        "|  | TensorFlow | Framework for building and training complex neural networks (deep learning) |\n",
        "|  | PyTorch | Leading deep learning framework, known for flexibility and ease of use |\n",
        "|  | caret | User-friendly package for training and evaluating machine learning models |\n",
        "| Data Acquisition & Cleaning | BeautifulSoup | Parsing HTML and XML data (often used for web scraping) |\n",
        "|  | Scrapy | Framework for building large-scale web crawlers to extract data |\n",
        "\n"
      ],
      "metadata": {
        "id": "XD5magwt5TbM"
      }
    },
    {
      "cell_type": "markdown",
      "source": [
        "## Markdown Cell: Arithmetic Expression Examples\n",
        "\n",
        "\n",
        "---\n",
        "\n",
        "\n",
        "Arithmetic expressions combine numbers, variables, and mathematical operators to perform calculations. They are fundamental building blocks in data science and programming.\n",
        "\n",
        "Some common examples:\n",
        "\n",
        "* **Basic arithmetic:**\n",
        "    * `5 + 3` (Addition)\n",
        "    * `10 - 2` (Subtraction)\n",
        "    * `4 * 7` (Multiplication)\n",
        "    * `18 / 2` (Division)\n",
        "* **Order of operations (PEMDAS):**\n",
        "    * `(2 + 3) * 4` (Parentheses are evaluated first, resulting in 5 * 4 = 20)\n",
        "    * `8 / 2 * 3` (Division and multiplication from left to right, resulting in 4 * 3 = 12)\n",
        "* **Exponents:**\n",
        "    * `2^3` (2 raised to the power of 3, equals 8)\n",
        "* **Modulus (remainder):**\n",
        "    * `10 % 3` (Remainder after dividing 10 by 3, equals 1)"
      ],
      "metadata": {
        "id": "FzsxTunv58hS"
      }
    },
    {
      "cell_type": "code",
      "source": [
        "# Multiply and add numbers code\n",
        "\n",
        "# input data\n",
        "num1 = float(input(\"Enter the first number: \"))\n",
        "num2 = float(input(\"Enter the second number: \"))\n",
        "\n",
        "# perform operations\n",
        "product = num1 * num2\n",
        "sum = num1 + num2\n",
        "\n",
        "# print results\n",
        "print(f\"The product of {num1} and {num2} is: {product}\")\n",
        "print(f\"The sum of {num1} and {num2} is: {sum}\")\n"
      ],
      "metadata": {
        "id": "X5LTCe-46fKM"
      },
      "execution_count": null,
      "outputs": []
    },
    {
      "cell_type": "code",
      "source": [
        "# Convert minutes to hours code\n",
        "\n",
        "# input\n",
        "minutes = int(input(\"Enter the number of minutes: \"))\n",
        "\n",
        "# perform conversion\n",
        "hours = minutes // 60\n",
        "remaining_minutes = minutes % 60\n",
        "\n",
        "# print results\n",
        "print(f\"{minutes} minutes is equivalent to {hours} hours and {remaining_minutes} minutes.\")"
      ],
      "metadata": {
        "colab": {
          "base_uri": "https://localhost:8080/"
        },
        "id": "RpsTaybo6xhH",
        "outputId": "5e717d94-f1ed-4d6f-860d-585869efdb49"
      },
      "execution_count": 1,
      "outputs": [
        {
          "output_type": "stream",
          "name": "stdout",
          "text": [
            "Enter the number of minutes: 78\n",
            "78 minutes is equivalent to 1 hours and 18 minutes.\n"
          ]
        }
      ]
    },
    {
      "cell_type": "markdown",
      "source": [
        "##Major Objectives\n",
        "\n",
        "\n",
        "---\n",
        "\n",
        "\n",
        "The objectives of the exercise have been:\n",
        "\n",
        "*   To gain information about the various programming languages and tools that can be used for data science and it's related tasks\n",
        "*   To demonstrate the effective usage of both markdown as well as coding through python notebooks\n",
        "*   To provide in depth understanding about the various functionalities of data science and it's related technologies"
      ],
      "metadata": {
        "id": "7-U4aYGf84bD"
      }
    },
    {
      "cell_type": "markdown",
      "source": [
        "##Author Details\n",
        "\n",
        "\n",
        "---\n",
        "\n",
        "\n",
        "**Name:** Pratyush Mishra\n",
        "\n",
        "**Institute:** NIT Kurukshetra\n",
        "\n",
        "**Degree (Currently Pursuing):**B. Tech in Computer Science\n",
        "\n",
        "**Age** 20\n",
        "\n",
        "**Is Enjoying the course so far?:** Yes"
      ],
      "metadata": {
        "id": "rMh1b9pB-Yx-"
      }
    }
  ]
}